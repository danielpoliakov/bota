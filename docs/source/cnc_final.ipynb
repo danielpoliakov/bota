{
 "cells": [
  {
   "cell_type": "markdown",
   "metadata": {},
   "source": [
    "# C&C final"
   ]
  },
  {
   "cell_type": "code",
   "execution_count": 1,
   "metadata": {},
   "outputs": [],
   "source": [
    "import os\n",
    "import glob\n",
    "\n",
    "import pandas as pd\n",
    "import numpy as np\n",
    "import matplotlib.pylab as plt\n",
    "\n",
    "from fet.common import convert_times\n",
    "from fet.explorer import Explorer\n",
    "from fet.pstats import extract_features, aggregate, swap_directions\n",
    "\n",
    "pd.plotting.register_matplotlib_converters()"
   ]
  },
  {
   "cell_type": "markdown",
   "metadata": {},
   "source": [
    "## Prepare and merge datasets"
   ]
  },
  {
   "cell_type": "code",
   "execution_count": 2,
   "metadata": {},
   "outputs": [],
   "source": [
    "base_path = '/srv/data/uhricdan/data/magic'"
   ]
  },
  {
   "cell_type": "code",
   "execution_count": 3,
   "metadata": {},
   "outputs": [],
   "source": [
    "my_cnc_datasets = glob.glob(f'{base_path}/cnc/**/*.csv')\n",
    "\n",
    "iot_23_cnc_datasets = glob.glob(f'{base_path}/iot-23/cnc/*.csv')\n",
    "\n",
    "iot_23_benign_datasets = glob.glob(f'{base_path}/iot-23/benign/*.csv')\n",
    "\n",
    "unsw_benign_datasets = [\n",
    "    f'{base_path}/iottraces/16-09-26/pstats.filter.csv',\n",
    "    f'{base_path}/iottraces/16-09-27/pstats.filter.csv',\n",
    "    f'{base_path}/iottraces/16-09-28/pstats.filter.csv',\n",
    "    f'{base_path}/iottraces/16-09-29/pstats.filter.csv',\n",
    "    f'{base_path}/iottraces/16-09-30/pstats.filter.csv',\n",
    "    f'{base_path}/iottraces/16-10-01/pstats.filter.csv',\n",
    "    f'{base_path}/iottraces/16-10-02/pstats.filter.csv',\n",
    "    f'{base_path}/iottraces/16-10-03/pstats.filter.csv',\n",
    "    f'{base_path}/iottraces/16-10-04/pstats.filter.csv',\n",
    "    f'{base_path}/iottraces/16-10-05/pstats.filter.csv',\n",
    "    f'{base_path}/iottraces/16-10-06/pstats.filter.csv',\n",
    "    f'{base_path}/iottraces/16-10-07/pstats.filter.csv'\n",
    "]\n",
    "\n",
    "cesnet_captures_datasets = glob.glob(f'{base_path}/cesnet/*.agg.csv')"
   ]
  },
  {
   "cell_type": "code",
   "execution_count": 4,
   "metadata": {},
   "outputs": [],
   "source": [
    "def preprocess(df, swap_prefix, rename=True, swap=True):\n",
    "    if rename:\n",
    "        df.rename(columns=lambda x: x.split()[1].lower(), inplace=True)\n",
    "        \n",
    "    convert_times(df, inplace=True)\n",
    "    \n",
    "    if swap:\n",
    "        swap_directions(df, df['dst_ip'].str.startswith(swap_prefix), inplace=True)\n",
    "        \n",
    "    df = aggregate(df)\n",
    "    return df"
   ]
  },
  {
   "cell_type": "markdown",
   "metadata": {},
   "source": [
    "My C&C dataset."
   ]
  },
  {
   "cell_type": "code",
   "execution_count": 5,
   "metadata": {},
   "outputs": [],
   "source": [
    "my_cnc = pd.DataFrame()\n",
    "\n",
    "for f in my_cnc_datasets:\n",
    "    my_cnc = my_cnc.append(pd.read_csv(f), ignore_index=True)\n",
    "    \n",
    "my_cnc = preprocess(my_cnc, '10.0.42.155')"
   ]
  },
  {
   "cell_type": "markdown",
   "metadata": {},
   "source": [
    "IoT-23 C&C dataset."
   ]
  },
  {
   "cell_type": "code",
   "execution_count": 6,
   "metadata": {},
   "outputs": [],
   "source": [
    "iot_23_cnc = pd.DataFrame()\n",
    "\n",
    "for f in iot_23_cnc_datasets:\n",
    "    iot_23_cnc = iot_23_cnc.append(pd.read_csv(f), ignore_index=True)\n",
    "    \n",
    "iot_23_cnc = preprocess(iot_23_cnc, '192.168.')"
   ]
  },
  {
   "cell_type": "markdown",
   "metadata": {},
   "source": [
    "IoT-23 benign dataset."
   ]
  },
  {
   "cell_type": "code",
   "execution_count": 7,
   "metadata": {},
   "outputs": [],
   "source": [
    "iot_23_benign = pd.DataFrame()\n",
    "\n",
    "for f in iot_23_benign_datasets:\n",
    "    iot_23_benign = iot_23_benign.append(pd.read_csv(f), ignore_index=True)\n",
    "    \n",
    "iot_23_benign = preprocess(iot_23_benign, '192.168.')"
   ]
  },
  {
   "cell_type": "markdown",
   "metadata": {},
   "source": [
    "UNSW dataset."
   ]
  },
  {
   "cell_type": "code",
   "execution_count": 8,
   "metadata": {},
   "outputs": [],
   "source": [
    "unsw_benign = pd.DataFrame()\n",
    "\n",
    "for f in unsw_benign_datasets:\n",
    "    unsw_benign = unsw_benign.append(pd.read_csv(f), ignore_index=True)\n",
    "\n",
    "unsw_benign = preprocess(unsw_benign, '192.168.', rename=False)"
   ]
  },
  {
   "cell_type": "markdown",
   "metadata": {},
   "source": [
    "CESNET captures dataset."
   ]
  },
  {
   "cell_type": "code",
   "execution_count": 9,
   "metadata": {
    "scrolled": true
   },
   "outputs": [
    {
     "name": "stdout",
     "output_type": "stream",
     "text": [
      "/srv/data/uhricdan/data/magic/cesnet/p80.agg.csv\n",
      "/srv/data/uhricdan/data/magic/cesnet/p8080.agg.csv\n",
      "/srv/data/uhricdan/data/magic/cesnet/p20-21-25-143-3389.agg.csv\n",
      "/srv/data/uhricdan/data/magic/cesnet/p443.agg.csv\n",
      "/srv/data/uhricdan/data/magic/cesnet/p80-2.agg.csv\n",
      "/srv/data/uhricdan/data/magic/cesnet/others.agg.csv\n",
      "/srv/data/uhricdan/data/magic/cesnet/p22.agg.csv\n",
      "/srv/data/uhricdan/data/magic/cesnet/p443-2.agg.csv\n"
     ]
    }
   ],
   "source": [
    "cesnet_benign = pd.DataFrame()\n",
    "\n",
    "for f in cesnet_captures_datasets:\n",
    "    print(f)\n",
    "    cesnet_benign = cesnet_benign.append(pd.read_csv(f), ignore_index=True)\n",
    "    \n",
    "cesnet_benign = preprocess(cesnet_benign, 'X', swap=False)"
   ]
  },
  {
   "cell_type": "markdown",
   "metadata": {},
   "source": [
    "Labels."
   ]
  },
  {
   "cell_type": "code",
   "execution_count": 10,
   "metadata": {},
   "outputs": [],
   "source": [
    "my_cnc['label'] = 'cnc'\n",
    "iot_23_cnc['label'] = 'cnc'\n",
    "iot_23_benign['label'] = 'benign'\n",
    "unsw_benign['label'] = 'benign'\n",
    "cesnet_benign['label'] = 'benign'"
   ]
  },
  {
   "cell_type": "markdown",
   "metadata": {},
   "source": [
    "Concat."
   ]
  },
  {
   "cell_type": "code",
   "execution_count": 11,
   "metadata": {},
   "outputs": [],
   "source": [
    "df = pd.concat([my_cnc, iot_23_cnc, iot_23_benign, unsw_benign, cesnet_benign])"
   ]
  },
  {
   "cell_type": "markdown",
   "metadata": {},
   "source": [
    "Fix aggregation mismatch."
   ]
  },
  {
   "cell_type": "code",
   "execution_count": 119,
   "metadata": {},
   "outputs": [],
   "source": [
    "def cesnet_fix(x):\n",
    "    x = x.strip('[]').split('|')\n",
    "    x = [str(int(y)) for y in x if y != '']\n",
    "    return '[' + '|'.join(x) + ']'\n",
    "\n",
    "df.loc[:, ['ppi_pkt_lengths']] = df['ppi_pkt_lengths'].apply(lambda x: cesnet_fix(x))\n",
    "df.loc[:, ['ppi_pkt_flags']] = df['ppi_pkt_flags'].apply(lambda x: cesnet_fix(x))"
   ]
  },
  {
   "cell_type": "markdown",
   "metadata": {},
   "source": [
    "Remove flows w/ duration less then 30 seconds."
   ]
  },
  {
   "cell_type": "code",
   "execution_count": 13,
   "metadata": {},
   "outputs": [],
   "source": [
    "df = df[df['duration'] > 30.]"
   ]
  },
  {
   "cell_type": "markdown",
   "metadata": {},
   "source": [
    "No length flows."
   ]
  },
  {
   "cell_type": "code",
   "execution_count": 14,
   "metadata": {},
   "outputs": [],
   "source": [
    "df = df[(df['ppi_pkt_lengths'] != '[]')]"
   ]
  },
  {
   "cell_type": "markdown",
   "metadata": {},
   "source": [
    "Extract features."
   ]
  },
  {
   "cell_type": "code",
   "execution_count": 15,
   "metadata": {},
   "outputs": [
    {
     "data": {
      "text/plain": [
       "benign    147374\n",
       "cnc         1896\n",
       "Name: label, dtype: int64"
      ]
     },
     "execution_count": 15,
     "metadata": {},
     "output_type": "execute_result"
    }
   ],
   "source": [
    "df['label'].value_counts()"
   ]
  },
  {
   "cell_type": "code",
   "execution_count": 16,
   "metadata": {},
   "outputs": [
    {
     "data": {
      "text/plain": [
       "0.012865227244968584"
      ]
     },
     "execution_count": 16,
     "metadata": {},
     "output_type": "execute_result"
    }
   ],
   "source": [
    "(df['label'] == 'cnc').sum() / (df['label'] == 'benign').sum()"
   ]
  },
  {
   "cell_type": "code",
   "execution_count": 22,
   "metadata": {},
   "outputs": [],
   "source": [
    "e = Explorer(y='label')\n",
    "e.fit(df, module='pstats')"
   ]
  },
  {
   "cell_type": "markdown",
   "metadata": {},
   "source": [
    "Remove collerated features."
   ]
  },
  {
   "cell_type": "code",
   "execution_count": null,
   "metadata": {},
   "outputs": [],
   "source": [
    "e.remove_features(\n",
    "    [\n",
    "        'bytes_rev_rate',\n",
    "        'bytes_total_rate',\n",
    "        'packets_rate',\n",
    "        'packets_rev_rate',\n",
    "        'pkt_iat_max',\n",
    "        'urg_ratio',\n",
    "        'urg_count'\n",
    "    ]\n",
    ")"
   ]
  },
  {
   "cell_type": "markdown",
   "metadata": {},
   "source": [
    "## GridSearchCV"
   ]
  },
  {
   "cell_type": "code",
   "execution_count": 49,
   "metadata": {},
   "outputs": [],
   "source": [
    "from imblearn.pipeline import Pipeline\n",
    "from imblearn.over_sampling import SMOTE\n",
    "\n",
    "from sklearn.model_selection import GridSearchCV, train_test_split\n",
    "from sklearn.preprocessing import StandardScaler, LabelEncoder\n",
    "\n",
    "from sklearn.ensemble import RandomForestClassifier, AdaBoostClassifier, ExtraTreesClassifier\n",
    "from sklearn.linear_model import LogisticRegression\n",
    "from sklearn.neighbors import KNeighborsClassifier\n",
    "from sklearn.tree import DecisionTreeClassifier"
   ]
  },
  {
   "cell_type": "code",
   "execution_count": 61,
   "metadata": {},
   "outputs": [],
   "source": [
    "classifiers = {\n",
    "#     'AdaBoost': AdaBoostClassifier(),\n",
    "#     'ExtraTrees': ExtraTreesClassifier(),\n",
    "    'RandomForest': RandomForestClassifier(),\n",
    "#     'DecisionTree': DecisionTreeClassifier(),\n",
    "#     'LogisticRegression': LogisticRegression(),\n",
    "    'KNN': KNeighborsClassifier(),\n",
    "}\n",
    "\n",
    "parameters = {\n",
    "    'AdaBoost': {\n",
    "        'classifier__base_estimator': [DecisionTreeClassifier(max_depth=x) for x in range(1, 4)],\n",
    "        'classifier__learning_rate': [0.001, 0.01, 0.05, 0.1, 0.25, 0.50, 0.75, 1.0],\n",
    "        'classifier__n_estimators': [2, 4, 5, 6, 7, 8, 9, 10, 20, 30, 50, 100, 200],\n",
    "    },\n",
    "    'ExtraTrees': {\n",
    "        'classifier__criterion': ['gini', 'entropy'],\n",
    "        'classifier__max_depth': [1, 2, 3, 4, 5, 6, 7, 8, 9, None],\n",
    "        'classifier__max_features': ['auto', 'sqrt', 'log2'],\n",
    "        'classifier__min_samples_leaf': [1, 2, 3, 0.005, 0.01, 0.05, 0.10],\n",
    "        'classifier__min_samples_split': [2, 3, 4, 0.005, 0.01, 0.05, 0.10],\n",
    "        'classifier__n_estimators': [2, 4, 5, 6, 7, 8, 9, 10, 20, 30, 50, 100, 200],\n",
    "    },\n",
    "    'RandomForest': {\n",
    "        'classifier__criterion': ['gini', 'entropy'],\n",
    "        'classifier__max_features': ['auto', 'sqrt', 'log2'],\n",
    "        'classifier__max_depth': [1, 2, 3, 4, 5, 6, 7, 8, 9, None],\n",
    "        'classifier__min_samples_leaf': [1, 2, 3, 0.005, 0.01, 0.05, 0.10],\n",
    "        'classifier__min_samples_split': [2, 3, 4, 0.005, 0.01, 0.05, 0.10],\n",
    "        'classifier__n_estimators': [2, 4, 5, 6, 7, 8, 9, 10, 20, 30, 50, 100, 200],\n",
    "    },\n",
    "    'DecisionTree': {\n",
    "        'classifier__criterion': ['gini', 'entropy'],\n",
    "        'classifier__max_features': ['auto', 'sqrt', 'log2'],\n",
    "        'classifier__max_depth' : [1, 2, 3, 4, 5, 6, 7, 8, None],\n",
    "        'classifier__min_samples_leaf': [1, 2, 3, 0.005, 0.01, 0.05, 0.10],\n",
    "        'classifier__min_samples_split': [2, 3, 4, 0.005, 0.01, 0.05, 0.10],\n",
    "        'classifier__splitter': ['best', 'random'],\n",
    "    },\n",
    "    'LogisticRegression': {\n",
    "        'classifier__C' : [100, 50, 10, 1.0, 0.5, 0.1, 0.01],\n",
    "        'classifier__max_iter': [10000],\n",
    "    },\n",
    "    'KNN': {\n",
    "        'classifier__n_neighbors': [3, 4, 5, 6, 7],\n",
    "        'classifier__weights': ['uniform', 'distance'],\n",
    "    }\n",
    "}"
   ]
  },
  {
   "cell_type": "code",
   "execution_count": 34,
   "metadata": {},
   "outputs": [],
   "source": [
    "X_train, X_test, y_train, y_test = train_test_split(\n",
    "    e.df[e.feature_cols],\n",
    "    e.df[e.y],\n",
    "    test_size=0.40,\n",
    "    stratify=e.df[e.y]\n",
    ")"
   ]
  },
  {
   "cell_type": "code",
   "execution_count": 35,
   "metadata": {},
   "outputs": [],
   "source": [
    "results = {}"
   ]
  },
  {
   "cell_type": "code",
   "execution_count": null,
   "metadata": {},
   "outputs": [
    {
     "name": "stdout",
     "output_type": "stream",
     "text": [
      "RandomForest\n"
     ]
    }
   ],
   "source": [
    "import joblib\n",
    "\n",
    "# Model Design and Selection with Scikit-learn - Frank Ceballos\n",
    "\n",
    "le = LabelEncoder()\n",
    "le.fit(['benign', 'cnc'])\n",
    "\n",
    "with joblib.parallel_backend('threading', n_jobs=8):\n",
    "\n",
    "    for classifier_k, classifier_v in classifiers.items():\n",
    "        print(classifier_k)\n",
    "        \n",
    "        steps = (('smote', SMOTE()), ('scaler', StandardScaler()), ('classifier', classifier_v))\n",
    "        pipeline = Pipeline(steps=steps)\n",
    "        \n",
    "        param_grid = parameters[classifier_k]\n",
    "        gscv = GridSearchCV(pipeline, param_grid, scoring='roc_auc', cv=5)\n",
    "        gscv.fit(X_train, y_train)\n",
    "        \n",
    "        best_params = gscv.best_params_\n",
    "        best_score = gscv.best_score_\n",
    "        cv_results = gscv.cv_results_\n",
    "    \n",
    "        tuned_params = {item[12:]: best_params[item] for item in best_params}\n",
    "        classifier_v.set_params(**tuned_params)\n",
    "    \n",
    "        results[classifier_k] = {\n",
    "            'model': pipeline,\n",
    "            'cv_results': cv_results,\n",
    "            'best_params': best_params,\n",
    "        }"
   ]
  },
  {
   "cell_type": "code",
   "execution_count": 126,
   "metadata": {},
   "outputs": [
    {
     "name": "stdout",
     "output_type": "stream",
     "text": [
      "AdaBoost\n",
      "  classifier__base_estimator: DecisionTreeClassifier(max_depth=3)\n",
      "  classifier__learning_rate: 0.75\n",
      "  classifier__n_estimators: 200\n",
      "\n",
      "DecisionTree\n",
      "  classifier__criterion: gini\n",
      "  classifier__max_depth: 7\n",
      "  classifier__max_features: auto\n",
      "  classifier__min_samples_leaf: 2\n",
      "  classifier__min_samples_split: 0.005\n",
      "  classifier__splitter: best\n",
      "\n",
      "LogisticRegression\n",
      "  classifier__C: 100\n",
      "  classifier__max_iter: 10000\n",
      "\n",
      "RandomForest\n",
      "  classifier__criterion: gini\n",
      "  classifier__max_depth: None\n",
      "  classifier__max_features: log2\n",
      "  classifier__min_samples_leaf: 2\n",
      "  classifier__min_samples_split: 2\n",
      "  classifier__n_estimators: 20\n",
      "\n",
      "KNN\n",
      "  classifier__n_neighbors: 6\n",
      "  classifier__weights: uniform\n",
      "\n"
     ]
    }
   ],
   "source": [
    "for name, res in results.items():\n",
    "    print(name)\n",
    "    \n",
    "    for param, value in res['best_params'].items():\n",
    "        print(f'  {param}: {value}')\n",
    "        \n",
    "    print()"
   ]
  },
  {
   "cell_type": "markdown",
   "metadata": {},
   "source": [
    "## Evaluate models"
   ]
  },
  {
   "cell_type": "code",
   "execution_count": 40,
   "metadata": {},
   "outputs": [],
   "source": [
    "from sklearn.preprocessing import LabelEncoder\n",
    "from sklearn.metrics import accuracy_score, precision_score, recall_score, f1_score, roc_auc_score, plot_confusion_matrix\n",
    "\n",
    "def evaluate_model(cls, X, y_true, y_pred): \n",
    "    le = LabelEncoder()\n",
    "    le.fit(['benign', 'cnc'])\n",
    "    print(f'ROC AUC: {roc_auc_score(le.transform(y_true), le.transform(y_pred))}')\n",
    "    print(f'Accuracy: {accuracy_score(y_true, y_pred)}')\n",
    "    print(f'Precision: {precision_score(y_true, y_pred, pos_label=\"cnc\")}')\n",
    "    print(f'Recall: {recall_score(y_true, y_pred, pos_label=\"cnc\")}')\n",
    "    print(f'F1 score: {f1_score(y_true, y_pred, pos_label=\"cnc\")}')\n",
    "    \n",
    "    fig, axes = plt.subplots(ncols=2, figsize=(10, 4))\n",
    "    fig.tight_layout(w_pad=5)\n",
    "    \n",
    "    plot_confusion_matrix(cls, X, y_true, ax=axes[0], cmap=plt.cm.Blues, colorbar=False)\n",
    "    plot_confusion_matrix(cls, X, y_true, ax=axes[1], cmap=plt.cm.Blues, colorbar=False, normalize='true')\n",
    "    \n",
    "    return fig"
   ]
  },
  {
   "cell_type": "markdown",
   "metadata": {},
   "source": [
    "### KNN"
   ]
  },
  {
   "cell_type": "code",
   "execution_count": 78,
   "metadata": {},
   "outputs": [
    {
     "name": "stdout",
     "output_type": "stream",
     "text": [
      "ROC AUC: 0.9950845869900953\n",
      "Accuracy: 0.9996307299796902\n",
      "Precision: 0.979702300405954\n",
      "Recall: 0.9904240766073872\n",
      "F1 score: 0.9850340136054422\n"
     ]
    },
    {
     "data": {
      "image/png": "[encoded data removed]",
      "text/plain": [
       "<Figure size 720x288 with 2 Axes>"
      ]
     },
     "metadata": {
      "needs_background": "light"
     },
     "output_type": "display_data"
    }
   ],
   "source": [
    "model = results['KNN']['model']\n",
    "model.fit(X_train, y_train)\n",
    "y_pred = model.predict(X_test)\n",
    "_ = evaluate_model(model, X_test, y_test, y_pred)"
   ]
  },
  {
   "cell_type": "markdown",
   "metadata": {},
   "source": [
    "### Decision Tree"
   ]
  },
  {
   "cell_type": "code",
   "execution_count": 59,
   "metadata": {},
   "outputs": [
    {
     "name": "stdout",
     "output_type": "stream",
     "text": [
      "ROC AUC: 0.9857381224558266\n",
      "Accuracy: 0.9891736744045521\n",
      "Precision: 0.5318518518518518\n",
      "Recall: 0.9822161422708618\n",
      "F1 score: 0.6900528592023065\n"
     ]
    },
    {
     "data": {
      "image/png": "[encoded data removed]",
      "text/plain": [
       "<Figure size 720x288 with 2 Axes>"
      ]
     },
     "metadata": {
      "needs_background": "light"
     },
     "output_type": "display_data"
    }
   ],
   "source": [
    "model = results['DecisionTree']['model']\n",
    "model.fit(X_train, y_train)\n",
    "y_pred = model.predict(X_test)\n",
    "_ = evaluate_model(model, X_test, y_test, y_pred)"
   ]
  },
  {
   "cell_type": "markdown",
   "metadata": {},
   "source": [
    "### Logistic Regression"
   ]
  },
  {
   "cell_type": "code",
   "execution_count": 60,
   "metadata": {},
   "outputs": [
    {
     "name": "stdout",
     "output_type": "stream",
     "text": [
      "ROC AUC: 0.9892133065634043\n",
      "Accuracy: 0.9933699246353459\n",
      "Precision: 0.6521739130434783\n",
      "Recall: 0.9849521203830369\n",
      "F1 score: 0.7847411444141689\n"
     ]
    },
    {
     "data": {
      "image/png": "[encoded data removed]",
      "text/plain": [
       "<Figure size 720x288 with 2 Axes>"
      ]
     },
     "metadata": {
      "needs_background": "light"
     },
     "output_type": "display_data"
    }
   ],
   "source": [
    "model = results['LogisticRegression']['model']\n",
    "model.fit(X_train, y_train)\n",
    "y_pred = model.predict(X_test)\n",
    "_ = evaluate_model(model, X_test, y_test, y_pred)"
   ]
  },
  {
   "cell_type": "markdown",
   "metadata": {},
   "source": [
    "### Random Forest"
   ]
  },
  {
   "cell_type": "code",
   "execution_count": 72,
   "metadata": {},
   "outputs": [
    {
     "name": "stdout",
     "output_type": "stream",
     "text": [
      "ROC AUC: 0.9924675634372786\n",
      "Accuracy: 0.9997985799889219\n",
      "Precision: 0.9986130374479889\n",
      "Recall: 0.9849521203830369\n",
      "F1 score: 0.9917355371900827\n"
     ]
    },
    {
     "data": {
      "image/png": "[encoded data removed]",
      "text/plain": [
       "<Figure size 720x288 with 2 Axes>"
      ]
     },
     "metadata": {
      "needs_background": "light"
     },
     "output_type": "display_data"
    }
   ],
   "source": [
    "model = results['RandomForest']['model']\n",
    "model.fit(X_train, y_train)\n",
    "y_pred = model.predict(X_test)\n",
    "_ = evaluate_model(model, X_test, y_test, y_pred)"
   ]
  },
  {
   "cell_type": "markdown",
   "metadata": {},
   "source": [
    "### AdaBoost"
   ]
  },
  {
   "cell_type": "code",
   "execution_count": 108,
   "metadata": {},
   "outputs": [
    {
     "name": "stdout",
     "output_type": "stream",
     "text": [
      "ROC AUC: 0.9952035415494537\n",
      "Accuracy: 0.9998657199926146\n",
      "Precision: 0.9986206896551724\n",
      "Recall: 0.9904240766073872\n",
      "F1 score: 0.9945054945054945\n"
     ]
    },
    {
     "data": {
      "image/png": "[encoded data removed]",
      "text/plain": [
       "<Figure size 720x288 with 2 Axes>"
      ]
     },
     "metadata": {
      "needs_background": "light"
     },
     "output_type": "display_data"
    }
   ],
   "source": [
    "model = results['AdaBoost']['model']\n",
    "model.fit(X_train, y_train)\n",
    "y_pred = model.predict(X_test)\n",
    "_ = evaluate_model(model, X_test, y_test, y_pred)"
   ]
  }
 ],
 "metadata": {
  "kernelspec": {
   "display_name": "Python 3",
   "language": "python",
   "name": "python3"
  },
  "language_info": {
   "codemirror_mode": {
    "name": "ipython",
    "version": 3
   },
   "file_extension": ".py",
   "mimetype": "text/x-python",
   "name": "python",
   "nbconvert_exporter": "python",
   "pygments_lexer": "ipython3",
   "version": "3.6.8"
  }
 },
 "nbformat": 4,
 "nbformat_minor": 4
}
